{
 "cells": [
  {
   "cell_type": "code",
   "execution_count": null,
   "metadata": {},
   "outputs": [],
   "source": [
    "import os\n",
    "import pandas as pd\n",
    "from tqdm import tqdm\n",
    "import spacy\n",
    "\n",
    "nlp = spacy.load(\"en_core_web_sm\")\n",
    "\n",
    "data = \"updatedCveDB.csv\"\n",
    "\n",
    "if not os.path.exists(data):\n",
    "    print(f\"[INFO] Downloading data from MITRE...\")\n",
    "    url = \"https://cve.mitre.org/data/downloads/allitems.csv\"\n",
    "    df = pd.read_csv(url, skiprows=2, encoding='latin-1', dtype=str)\n",
    "    total_rows = len(df)\n",
    "    with tqdm(total=total_rows, desc=\"Processing data\") as pbar:\n",
    "        df.to_csv(data, index=False)\n",
    "        pbar.update(total_rows)"
   ]
  },
  {
   "cell_type": "code",
   "execution_count": null,
   "metadata": {},
   "outputs": [],
   "source": [
    "# Load processed data\n",
    "df = pd.read_csv(data, usecols=[0, 1, 2])\n",
    "\n",
    "# Remove rows where description starts with disclaimers, remove rows with missing description\n",
    "df = df.dropna(subset=['Description'])\n",
    "df = df[~df['Description'].str.startswith('**')]\n",
    "\n",
    "# Save the processed data\n",
    "df.to_csv('updatedCveDB.csv', index=False)\n",
    "print(f\"[INFO] Data saved to updatedCveDB.csv\")\n",
    "\n",
    "# Make another csv with 100 random rows for testing\n",
    "df.sample(100).to_csv('sample.csv', index=False)"
   ]
  },
  {
   "cell_type": "code",
   "execution_count": null,
   "metadata": {},
   "outputs": [],
   "source": [
    "# Tokenize the sample descriptions\n",
    "print(f\"[INFO] Tokenizing sample descriptions...\")\n",
    "sample = pd.read_csv('sample.csv')\n",
    "sample['tokens'] = sample['Description'].apply(lambda x: [token.text for token in nlp(x)])\n",
    "sample.to_csv('sample.csv', index=False)\n",
    "print(f\"[INFO] Sample data saved to sample.csv\")\n",
    "\n",
    "print(sample.head())"
   ]
  }
 ],
 "metadata": {
  "kernelspec": {
   "display_name": "Python 3",
   "language": "python",
   "name": "python3"
  },
  "language_info": {
   "codemirror_mode": {
    "name": "ipython",
    "version": 3
   },
   "file_extension": ".py",
   "mimetype": "text/x-python",
   "name": "python",
   "nbconvert_exporter": "python",
   "pygments_lexer": "ipython3",
   "version": "3.12.1"
  }
 },
 "nbformat": 4,
 "nbformat_minor": 2
}

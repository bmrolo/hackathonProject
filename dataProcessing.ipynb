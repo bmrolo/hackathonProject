{
 "cells": [
  {
   "cell_type": "code",
   "execution_count": null,
   "metadata": {},
   "outputs": [],
   "source": [
    "\n",
    "import os\n",
    "import pandas as pd\n",
    "import warnings\n",
    "from tqdm import tqdm\n",
    "from transformers import pipeline\n",
    "\n",
    "# Filter out warning\n",
    "warnings.filterwarnings('ignore', category=UserWarning, module='tqdm')\n",
    "\n",
    "data = \"updatedCveDB.csv\"\n",
    "\n",
    "if not os.path.exists(data):\n",
    "    print(f\"[INFO] Downloading data from MITRE...\")\n",
    "    url = \"https://cve.mitre.org/data/downloads/allitems.csv\"\n",
    "    df = pd.read_csv(url, skiprows=2, encoding='latin-1', dtype=str)\n",
    "    total_rows = len(df)\n",
    "    with tqdm(total=total_rows, desc=\"Processing data\") as pbar:\n",
    "        df.to_csv(data, index=False)\n",
    "        pbar.update(total_rows)"
   ]
  },
  {
   "cell_type": "code",
   "execution_count": null,
   "metadata": {},
   "outputs": [],
   "source": [
    "# Load processed data\n",
    "df = pd.read_csv(data, usecols=[\"Name\", \"Description\"])\n",
    "\n",
    "# Remove rows where description starts with disclaimers\n",
    "df = df.dropna(subset=['Description'])\n",
    "df = df[~df['Description'].str.startswith('**')]\n",
    "\n",
    "# Save the processed data\n",
    "df.to_csv('updatedCveDB.csv', index=False)\n",
    "print(f\"[INFO] Data saved to updatedCveDB.csv\")\n",
    "\n",
    "# Make another csv with 100 random rows for testing\n",
    "df.sample(200).to_csv('sample.csv', index=False)\n",
    "\n",
    "df1 = pd.read_csv('sample.csv')"
   ]
  },
  {
   "cell_type": "code",
   "execution_count": null,
   "metadata": {},
   "outputs": [],
   "source": [
    "import tf_keras as keras\n",
    "import pandas as pd\n",
    "from transformers import pipeline\n",
    "# Initialize the question-answering pipeline with a pre-trained model\n",
    "qa_pipeline = pipeline('question-answering', model='deepset/roberta-base-squad2')\n",
    "\n",
    "# Function to ask questions about the data\n",
    "def ask_question(question):\n",
    "    context = ' '.join(df1['Description'].tolist())\n",
    "    result = qa_pipeline(question=question, context=context)\n",
    "    return result['answer']\n",
    "\n",
    "# Example usage\n",
    "question = input(\"Prompt:\")\n",
    "answer = ask_question(question)\n",
    "print(f\"Question: {question}\")\n",
    "print(f\"Answer: {answer}\")"
   ]
  }
 ],
 "metadata": {
  "kernelspec": {
   "display_name": "Python 3",
   "language": "python",
   "name": "python3"
  },
  "language_info": {
   "codemirror_mode": {
    "name": "ipython",
    "version": 3
   },
   "file_extension": ".py",
   "mimetype": "text/x-python",
   "name": "python",
   "nbconvert_exporter": "python",
   "pygments_lexer": "ipython3",
   "version": "3.12.1"
  }
 },
 "nbformat": 4,
 "nbformat_minor": 2
}
